{
 "cells": [
  {
   "cell_type": "code",
   "execution_count": 66,
   "metadata": {},
   "outputs": [],
   "source": [
    "import os\n",
    "os.chdir(\"/Users/jessechuang/workspace/llm_learning\")\n",
    "\n",
    "from transformers import LlamaTokenizer\n",
    "from model import RepeatModel\n",
    "IGNORE_PADDING = 2"
   ]
  },
  {
   "cell_type": "code",
   "execution_count": 67,
   "metadata": {},
   "outputs": [],
   "source": [
    "tokenizer = LlamaTokenizer.from_pretrained(\"models/tokenizer/merged_tokenizer_hf\")\n",
    "vocab_size = len(tokenizer)\n",
    "max_length = 15\n",
    "model = RepeatModel(vocab_size, 256, 8, 6, 6, max_length)    "
   ]
  },
  {
   "cell_type": "code",
   "execution_count": 92,
   "metadata": {},
   "outputs": [
    {
     "name": "stdout",
     "output_type": "stream",
     "text": [
      "Query: Hi I am fine, and you</s>\n",
      "Answer: <s> Hi I am fine, and you</s>\n"
     ]
    }
   ],
   "source": [
    "import torch\n",
    "model_path = \"models/tokenizer/repeat_tranformer/repeat_model.pt\"\n",
    "model.load_state_dict(torch.load(model_path))\n",
    "model.eval()\n",
    "\n",
    "query = \"Hi I am fine, and you</s>\"\n",
    "print(\"Query: {}\".format(query))\n",
    "a = tokenizer.encode(query)\n",
    "src_tokens = torch.tensor(tokenizer.encode(query)).unsqueeze(0)\n",
    "# input the first word of src for decoder\n",
    "tgt_tokens = src_tokens[:,0].unsqueeze(0)\n",
    "\n",
    "# Evaluation pipeline\n",
    "output_string = \"\"\n",
    "for i in range(max_length):\n",
    "    out = model(src_tokens, tgt_tokens)\n",
    "    # Only care about final output\n",
    "    predict = model.predictor(out[:, -1])\n",
    "    # Use Greedy Search for output\n",
    "    y = torch.argmax(predict, dim=1)\n",
    "    tgt_tokens = torch.concat([tgt_tokens, y.unsqueeze(0)], dim=1)\n",
    "    output_token = tgt_tokens[0].numpy()\n",
    "    output_string = tokenizer.decode(output_token)\n",
    "    if output_token[-1] == IGNORE_PADDING:\n",
    "        break\n",
    "print(\"Answer: {}\".format(output_string))"
   ]
  }
 ],
 "metadata": {
  "kernelspec": {
   "display_name": "moss",
   "language": "python",
   "name": "python3"
  },
  "language_info": {
   "codemirror_mode": {
    "name": "ipython",
    "version": 3
   },
   "file_extension": ".py",
   "mimetype": "text/x-python",
   "name": "python",
   "nbconvert_exporter": "python",
   "pygments_lexer": "ipython3",
   "version": "3.8.16"
  }
 },
 "nbformat": 4,
 "nbformat_minor": 2
}
